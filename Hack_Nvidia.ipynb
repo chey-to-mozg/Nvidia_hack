{
 "cells": [
  {
   "cell_type": "code",
   "execution_count": 1,
   "metadata": {},
   "outputs": [],
   "source": [
    "import pandas as pd"
   ]
  },
  {
   "cell_type": "code",
   "execution_count": 2,
   "metadata": {},
   "outputs": [],
   "source": [
    "names = ['Id', 'Name Surname', 'Email', 'Reports to (Id)', 'Project', 'Roles', 'Skills']\n",
    "df = pd.read_csv(\"Employees.csv\", names=names)"
   ]
  },
  {
   "cell_type": "code",
   "execution_count": 3,
   "metadata": {},
   "outputs": [
    {
     "data": {
      "text/plain": "IT                   25\nProgrammer           20\nDirector             16\nManager              15\nSales                14\nHR                    4\nOffice management     3\nDevRel                1\nCEO                   1\nCTO                   1\nName: Roles, dtype: int64"
     },
     "execution_count": 3,
     "metadata": {},
     "output_type": "execute_result"
    }
   ],
   "source": [
    "df.Roles.value_counts()"
   ]
  },
  {
   "cell_type": "code",
   "execution_count": 4,
   "metadata": {},
   "outputs": [],
   "source": [
    "search_col = [\"IT\", \"Programmer\"]\n",
    "df.drop(df[~(df.Roles.isin(search_col))].index, inplace=True)"
   ]
  },
  {
   "cell_type": "code",
   "execution_count": 5,
   "metadata": {},
   "outputs": [
    {
     "data": {
      "text/plain": "['Problem solving', 'Automation', 'Daily technologies']             24\n['Perseverance', 'Self-Motivation', 'Independence']                 20\n['Problem solving', 'Automation', 'Daily technologies', 'Linux']     1\nName: Skills, dtype: int64"
     },
     "execution_count": 5,
     "metadata": {},
     "output_type": "execute_result"
    }
   ],
   "source": [
    "df.Skills.value_counts()"
   ]
  },
  {
   "cell_type": "code",
   "execution_count": 6,
   "metadata": {},
   "outputs": [
    {
     "data": {
      "text/plain": "[\"['Problem solving', 'Automation', 'Daily technologies']\",\n \"['Perseverance', 'Self-Motivation', 'Independence']\",\n \"['Problem solving', 'Automation', 'Daily technologies', 'Linux']\"]"
     },
     "execution_count": 6,
     "metadata": {},
     "output_type": "execute_result"
    }
   ],
   "source": [
    "skills = df.Skills.value_counts().index.to_list()\n",
    "skills"
   ]
  },
  {
   "cell_type": "code",
   "execution_count": 7,
   "metadata": {},
   "outputs": [],
   "source": [
    "set_skills = []\n",
    "i = 0\n",
    "\n",
    "for skills_person in skills:\n",
    "    _skills_person = skills_person.replace(\", \", \",\")\n",
    "    for skill in _skills_person.split(','):\n",
    "        set_skills.append(skill.replace(\"'\",\"\").replace(\"[\", \"\").replace(\"]\", \"\"))\n",
    "\n",
    "set_skills = list(set(set_skills))"
   ]
  },
  {
   "cell_type": "code",
   "execution_count": 8,
   "metadata": {},
   "outputs": [
    {
     "data": {
      "text/plain": "['Automation',\n 'Independence',\n 'Daily technologies',\n 'Linux',\n 'Problem solving',\n 'Perseverance',\n 'Self-Motivation']"
     },
     "execution_count": 8,
     "metadata": {},
     "output_type": "execute_result"
    }
   ],
   "source": [
    "set_skills"
   ]
  },
  {
   "cell_type": "code",
   "execution_count": 9,
   "metadata": {},
   "outputs": [],
   "source": [
    "skill_groups = [['Automation', 'Independence', 'Daily'], ['Linux', 'Daily technologies'], \\\n",
    "                    ['Self-Motivation', 'Problem solving'], ['Perseverance',]]"
   ]
  },
  {
   "cell_type": "code",
   "execution_count": 10,
   "metadata": {},
   "outputs": [],
   "source": [
    "search_skill = input('Enter skill name')\n",
    "required_count = eval(input('Enter number of employees'))"
   ]
  },
  {
   "cell_type": "code",
   "execution_count": 11,
   "metadata": {},
   "outputs": [],
   "source": [
    "qwr = df[df.Skills.str.find(search_skill) != -1].Id.to_list()"
   ]
  },
  {
   "cell_type": "code",
   "execution_count": 12,
   "metadata": {},
   "outputs": [],
   "source": [
    "similar_skills = set()\n",
    "for group in skill_groups:\n",
    "    if search_skill in group:\n",
    "        for skill in group:\n",
    "            similar_skills.add(skill)\n",
    "similar_skills.remove(search_skill)"
   ]
  },
  {
   "cell_type": "code",
   "execution_count": 13,
   "metadata": {},
   "outputs": [],
   "source": [
    "def rate_skills(row, *skills):\n",
    "    return len(list(set(eval(row)) & set(skills)))\n",
    "\n",
    "df[\"rate_skills\"] = df.Skills.apply(rate_skills, args=similar_skills)"
   ]
  },
  {
   "cell_type": "code",
   "execution_count": 14,
   "metadata": {},
   "outputs": [],
   "source": [
    "df.sort_values(by=['rate_skills'], inplace=True)\n",
    "proposal = df.Id.to_list()\n",
    "proposal = [val for val in proposal if val not in qwr]"
   ]
  },
  {
   "cell_type": "code",
   "execution_count": 15,
   "metadata": {},
   "outputs": [
    {
     "name": "stdout",
     "output_type": "stream",
     "text": [
      "Successfully find 5 employees!\n"
     ]
    }
   ],
   "source": [
    "result = qwr + proposal\n",
    "result = result[:required_count]\n",
    "if len(result) < required_count:\n",
    "    print(\"Can't find {} employees, only {}!\".format(required_count, len(result)))\n",
    "else:\n",
    "    print(\"Successfully find {} employees!\".format(required_count))"
   ]
  },
  {
   "cell_type": "markdown",
   "metadata": {},
   "source": [
    "### Main function"
   ]
  },
  {
   "cell_type": "code",
   "execution_count": 16,
   "metadata": {},
   "outputs": [],
   "source": [
    "def Get_Employees(search_skill, required_count):\n",
    "    names = ['Id', 'Name Surname', 'Email', 'Reports to (Id)', 'Project', 'Roles', 'Skills']\n",
    "    df = pd.read_csv(\"Employees.csv\", names=names)\n",
    "    search_col = [\"IT\", \"Programmer\"]\n",
    "    df.drop(df[~(df.Roles.isin(search_col))].index, inplace=True)\n",
    "    \n",
    "    # defined by commite of teamleads\n",
    "    skill_groups = [['Automation', 'Independence', 'Daily'], ['Linux', 'Daily technologies'], \\\n",
    "                    ['Self-Motivation', 'Problem solving'], ['Perseverance',]]\n",
    "    \n",
    "\n",
    "    qwr = df[df.Skills.str.find(search_skill) != -1].Id.to_list()\n",
    "    \n",
    "    # additional proposal\n",
    "    similar_skills = set()\n",
    "    for group in skill_groups:\n",
    "        if search_skill in group:\n",
    "            for skill in group:\n",
    "                similar_skills.add(skill)\n",
    "    similar_skills.remove(search_skill)\n",
    "    def rate_skills(row, *skills):\n",
    "        return len(list(set(eval(row)) & set(skills)))\n",
    "\n",
    "    df[\"rate_skills\"] = df.Skills.apply(rate_skills, args=similar_skills)\n",
    "    df.sort_values(by=['rate_skills'], inplace=True)\n",
    "    proposal = df.Id.to_list()\n",
    "    proposal = [val for val in proposal if val not in qwr]\n",
    "    \n",
    "    # combine proposals\n",
    "    result = qwr + proposal\n",
    "    result = result[:required_count]\n",
    "    \n",
    "    if len(result) < required_count:\n",
    "        print(\"Can't find {} employees, only {}!\".format(required_count, len(result)))\n",
    "    else:\n",
    "        print(\"Successfully find {} employees!\".format(required_count))\n",
    "\n",
    "    return df[df.Id.isin(result)][\"Name Surname\"]"
   ]
  },
  {
   "cell_type": "code",
   "execution_count": 17,
   "metadata": {},
   "outputs": [
    {
     "name": "stdout",
     "output_type": "stream",
     "text": [
      "Successfully find 3 employees!\n"
     ]
    }
   ],
   "source": [
    "search_skill = input('Enter skill name')\n",
    "required_count = eval(input('Enter number of employees'))\n",
    "list_employees = Get_Employees(search_skill, required_count)"
   ]
  },
  {
   "cell_type": "code",
   "execution_count": 18,
   "metadata": {},
   "outputs": [
    {
     "data": {
      "text/plain": "2      William Mooney\n79    Latoya Anderson\n95          Jan Knock\nName: Name Surname, dtype: object"
     },
     "execution_count": 18,
     "metadata": {},
     "output_type": "execute_result"
    }
   ],
   "source": [
    "list_employees"
   ]
  },
  {
   "cell_type": "code",
   "execution_count": 18,
   "metadata": {},
   "outputs": [],
   "source": []
  }
 ],
 "metadata": {
  "kernelspec": {
   "display_name": "Python 3",
   "language": "python",
   "name": "python3"
  },
  "language_info": {
   "codemirror_mode": {
    "name": "ipython",
    "version": 3
   },
   "file_extension": ".py",
   "mimetype": "text/x-python",
   "name": "python",
   "nbconvert_exporter": "python",
   "pygments_lexer": "ipython3",
   "version": "3.7.8"
  }
 },
 "nbformat": 4,
 "nbformat_minor": 4
}